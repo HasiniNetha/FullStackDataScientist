{
 "cells": [
  {
   "cell_type": "code",
   "execution_count": 55,
   "id": "312e069c",
   "metadata": {},
   "outputs": [
    {
     "name": "stdout",
     "output_type": "stream",
     "text": [
      "Total number of words: 12\n"
     ]
    }
   ],
   "source": [
    "filename = \"file.txt\"\n",
    "with open(filename, \"r\", encoding=\"utf-8\") as f:\n",
    "    text = f.read()\n",
    "words = text.split()\n",
    "print(\"Total number of words:\", len(words))"
   ]
  },
  {
   "cell_type": "code",
   "execution_count": 40,
   "id": "0115e70f",
   "metadata": {},
   "outputs": [
    {
     "name": "stdout",
     "output_type": "stream",
     "text": [
      "Weak password\n"
     ]
    }
   ],
   "source": [
    "import re\n",
    "password = input(\"Enter password: \")\n",
    "if (len(password) >= 8 and\n",
    "    re.search(r'[A-Z]', password) and\n",
    "    re.search(r'[a-z]', password) and\n",
    "    re.search(r'\\d', password) and\n",
    "    re.search(r'[\\W_]', password)):\n",
    "    print(\"Strong password\")\n",
    "else:\n",
    "    print(\"Weak password\")\n"
   ]
  },
  {
   "cell_type": "code",
   "execution_count": 41,
   "id": "54c8ee82",
   "metadata": {},
   "outputs": [
    {
     "name": "stdout",
     "output_type": "stream",
     "text": [
      "Addition: 5\n",
      "Subtraction: -1\n",
      "Multiplication: 6\n",
      "Division: 0.6666666666666666\n"
     ]
    }
   ],
   "source": [
    "a=int(input())\n",
    "b=int(input())\n",
    "print(\"Addition:\",a+b)\n",
    "print(\"Subtraction:\",a-b)\n",
    "print(\"Multiplication:\",a*b)\n",
    "print(\"Division:\",a/b)"
   ]
  },
  {
   "cell_type": "code",
   "execution_count": 42,
   "id": "7ecce805",
   "metadata": {},
   "outputs": [
    {
     "name": "stdout",
     "output_type": "stream",
     "text": [
      "{'Alice'}\n"
     ]
    }
   ],
   "source": [
    "names = ['Alice', 'Bob', 'Alice', 'Eve']\n",
    "duplicates = set([x for x in names if names.count(x) > 1])\n",
    "print(duplicates)"
   ]
  },
  {
   "cell_type": "code",
   "execution_count": 43,
   "id": "17579bb5",
   "metadata": {},
   "outputs": [
    {
     "name": "stdout",
     "output_type": "stream",
     "text": [
      "Fahrenheit: 39.2\n"
     ]
    }
   ],
   "source": [
    "c = float(input(\"Celsius: \"))\n",
    "f = (c * 9/5) + 32\n",
    "print(f\"Fahrenheit: {f}\")\n"
   ]
  },
  {
   "cell_type": "code",
   "execution_count": 44,
   "id": "1cdce7dc",
   "metadata": {},
   "outputs": [
    {
     "name": "stdout",
     "output_type": "stream",
     "text": [
      "8\n"
     ]
    }
   ],
   "source": [
    "num = [3, 6, 2, 8]\n",
    "print(max(num))"
   ]
  },
  {
   "cell_type": "code",
   "execution_count": 46,
   "id": "7670351d",
   "metadata": {},
   "outputs": [
    {
     "name": "stdout",
     "output_type": "stream",
     "text": [
      "Simple Interest: 0.24\n"
     ]
    }
   ],
   "source": [
    "p=int(input('P='))\n",
    "t=int(input('T='))\n",
    "r=int(input('R='))\n",
    "print(\"Simple Interest:\",(p*t*r)/100)"
   ]
  },
  {
   "cell_type": "code",
   "execution_count": null,
   "id": "b0109a47",
   "metadata": {},
   "outputs": [
    {
     "name": "stdout",
     "output_type": "stream",
     "text": [
      "['Bob']\n"
     ]
    }
   ],
   "source": [
    "attendance = {'Alice': 80, 'Bob': 70}\n",
    "defaulters = [k for k,v in attendance.items() if v < 75]\n",
    "print(defaulters)\n"
   ]
  },
  {
   "cell_type": "code",
   "execution_count": 47,
   "id": "a6657f9b",
   "metadata": {},
   "outputs": [
    {
     "name": "stdout",
     "output_type": "stream",
     "text": [
      "15\n"
     ]
    }
   ],
   "source": [
    "num = input()\n",
    "print(sum(int(d) for d in num))\n"
   ]
  },
  {
   "cell_type": "code",
   "execution_count": 51,
   "id": "f325b92b",
   "metadata": {},
   "outputs": [
    {
     "name": "stdout",
     "output_type": "stream",
     "text": [
      "False\n"
     ]
    }
   ],
   "source": [
    "def is_prime(n):\n",
    "    if n < 2: return False\n",
    "    for i in range(2, int(n**0.5) + 1):\n",
    "        if n % i == 0: return False\n",
    "    return True\n",
    "print(is_prime(15))\n"
   ]
  },
  {
   "cell_type": "code",
   "execution_count": null,
   "id": "325691ad",
   "metadata": {},
   "outputs": [
    {
     "name": "stdout",
     "output_type": "stream",
     "text": [
      "1 9\n"
     ]
    }
   ],
   "source": [
    "nums = [4, 7, 1, 9]\n",
    "print(min(nums), max(nums))\n"
   ]
  },
  {
   "cell_type": "code",
   "execution_count": null,
   "id": "c29be8dc",
   "metadata": {},
   "outputs": [
    {
     "name": "stdout",
     "output_type": "stream",
     "text": [
      "15\n"
     ]
    }
   ],
   "source": [
    "items = {'apple': 10, 'banana': 5}\n",
    "total = sum(items.values())\n",
    "print(total)\n"
   ]
  },
  {
   "cell_type": "code",
   "execution_count": 53,
   "id": "ddccd69c",
   "metadata": {},
   "outputs": [
    {
     "name": "stdout",
     "output_type": "stream",
     "text": [
      "9\n"
     ]
    }
   ],
   "source": [
    "nums = [int(input()) for _ in range(5)]\n",
    "print(max(nums))\n"
   ]
  },
  {
   "cell_type": "code",
   "execution_count": null,
   "id": "1d1e0197",
   "metadata": {},
   "outputs": [
    {
     "name": "stdout",
     "output_type": "stream",
     "text": [
      "{'h': 1, 'e': 1, 'l': 2, 'o': 1}\n"
     ]
    }
   ],
   "source": [
    "s = \"hello\"\n",
    "freq = {}\n",
    "for ch in s:\n",
    "    freq[ch] = freq.get(ch, 0) + 1\n",
    "print(freq)\n"
   ]
  },
  {
   "cell_type": "code",
   "execution_count": null,
   "id": "76929967",
   "metadata": {},
   "outputs": [
    {
     "name": "stdout",
     "output_type": "stream",
     "text": [
      "30\n"
     ]
    }
   ],
   "source": [
    "units = int(input())\n",
    "if units <= 100:\n",
    "    cost = units * 5\n",
    "elif units <= 200:\n",
    "    cost = 100*5 + (units-100)*7\n",
    "else:\n",
    "    cost = 100*5 + 100*7 + (units-200)*10\n",
    "print(cost)\n"
   ]
  },
  {
   "cell_type": "code",
   "execution_count": null,
   "id": "723c7b03",
   "metadata": {},
   "outputs": [
    {
     "name": "stdout",
     "output_type": "stream",
     "text": [
      "['Alice', 'Bob', 'Eve']\n"
     ]
    }
   ],
   "source": [
    "names = ['Bob', 'Alice', 'Eve']\n",
    "print(sorted(names))\n"
   ]
  },
  {
   "cell_type": "code",
   "execution_count": null,
   "id": "1c1483b1",
   "metadata": {},
   "outputs": [
    {
     "name": "stdout",
     "output_type": "stream",
     "text": [
      "4321\n"
     ]
    }
   ],
   "source": [
    "num = input()\n",
    "print(num[::-1])\n"
   ]
  },
  {
   "cell_type": "code",
   "execution_count": null,
   "id": "ed9cfcac",
   "metadata": {},
   "outputs": [
    {
     "name": "stdout",
     "output_type": "stream",
     "text": [
      "2 1 2\n"
     ]
    }
   ],
   "source": [
    "lst = [1, -2, 0, 3, 0]\n",
    "pos = sum(x > 0 for x in lst)\n",
    "neg = sum(x < 0 for x in lst)\n",
    "zero = sum(x == 0 for x in lst)\n",
    "print(pos, neg, zero)\n"
   ]
  },
  {
   "cell_type": "code",
   "execution_count": null,
   "id": "51390cf4",
   "metadata": {},
   "outputs": [
    {
     "name": "stdout",
     "output_type": "stream",
     "text": [
      "Access granted\n"
     ]
    }
   ],
   "source": [
    "pin = \"1234\"\n",
    "for i in range(3):\n",
    "    attempt = input(\"Enter PIN: \")\n",
    "    if attempt == pin:\n",
    "        print(\"Access granted\")\n",
    "        break\n",
    "else:\n",
    "    print(\"Access denied\")\n"
   ]
  },
  {
   "cell_type": "code",
   "execution_count": null,
   "id": "d57c0200",
   "metadata": {},
   "outputs": [
    {
     "name": "stdout",
     "output_type": "stream",
     "text": [
      "0.6666666666666666\n"
     ]
    }
   ],
   "source": [
    "a, b = map(float, input(\"Enter two numbers: \").split())\n",
    "try:\n",
    "    print(a / b)\n",
    "except ZeroDivisionError:\n",
    "    print(\"Cannot divide by zero\")\n"
   ]
  },
  {
   "cell_type": "code",
   "execution_count": null,
   "id": "178bee99",
   "metadata": {},
   "outputs": [
    {
     "name": "stdout",
     "output_type": "stream",
     "text": [
      "0.625\n"
     ]
    }
   ],
   "source": [
    "try:\n",
    "    a, b = map(float, input().split())\n",
    "    print(a / b)\n",
    "except ValueError:\n",
    "    print(\"Invalid input\")\n",
    "except ZeroDivisionError:\n",
    "    print(\"Divide by zero error\")\n"
   ]
  },
  {
   "cell_type": "code",
   "execution_count": null,
   "id": "e8ac827e",
   "metadata": {},
   "outputs": [
    {
     "name": "stdout",
     "output_type": "stream",
     "text": [
      "500.0\n"
     ]
    }
   ],
   "source": [
    "balance = 1000\n",
    "withdraw = float(input())\n",
    "if withdraw > balance:\n",
    "    raise Exception(\"Insufficient funds\")\n",
    "balance -= withdraw\n",
    "print(balance)\n"
   ]
  },
  {
   "cell_type": "code",
   "execution_count": null,
   "id": "056dc5f4",
   "metadata": {},
   "outputs": [
    {
     "name": "stdout",
     "output_type": "stream",
     "text": [
      "10250\n",
      "Bill processing finished\n"
     ]
    }
   ],
   "source": [
    "try:\n",
    "    units = int(input())\n",
    "    if units < 0:\n",
    "        raise ValueError(\"Invalid units\")\n",
    "    if units <= 100:\n",
    "        cost = units * 5\n",
    "    elif units <= 200:\n",
    "        cost = 100*5 + (units-100)*7\n",
    "    else:\n",
    "        cost = 100*5 + 100*7 + (units-200)*10\n",
    "    print(cost)\n",
    "except ValueError:\n",
    "    print(\"Invalid input\")\n",
    "finally:\n",
    "    print(\"Bill processing finished\")\n"
   ]
  }
 ],
 "metadata": {
  "kernelspec": {
   "display_name": "base",
   "language": "python",
   "name": "python3"
  },
  "language_info": {
   "codemirror_mode": {
    "name": "ipython",
    "version": 3
   },
   "file_extension": ".py",
   "mimetype": "text/x-python",
   "name": "python",
   "nbconvert_exporter": "python",
   "pygments_lexer": "ipython3",
   "version": "3.13.5"
  }
 },
 "nbformat": 4,
 "nbformat_minor": 5
}
