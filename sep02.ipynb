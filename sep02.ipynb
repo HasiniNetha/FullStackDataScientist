{
 "cells": [
  {
   "cell_type": "code",
   "execution_count": 5,
   "id": "60f7ed0a",
   "metadata": {},
   "outputs": [
    {
     "name": "stdout",
     "output_type": "stream",
     "text": [
      "310\n"
     ]
    }
   ],
   "source": [
    "n=int(input())\n",
    "Total_Bill=0\n",
    "for i in range(n):\n",
    "    price=int(input())\n",
    "    quantity=int(input())\n",
    "    Total_Bill+=(price*quantity)\n",
    "print(Total_Bill)"
   ]
  },
  {
   "cell_type": "code",
   "execution_count": 6,
   "id": "e5ce4a61",
   "metadata": {},
   "outputs": [
    {
     "name": "stdout",
     "output_type": "stream",
     "text": [
      "Addition= 19\n",
      "Subtraction= 11\n",
      "Multiplication= 60\n",
      "Division= 3.75\n",
      "Modullo= 3\n"
     ]
    }
   ],
   "source": [
    "a=int(input())\n",
    "b=int(input())\n",
    "print(\"Addition=\",a+b)\n",
    "print(\"Subtraction=\",a-b)\n",
    "print(\"Multiplication=\",a*b)\n",
    "print(\"Division=\",a/b)\n",
    "print(\"Modullo=\",a%b)"
   ]
  },
  {
   "cell_type": "code",
   "execution_count": 7,
   "id": "806f6ea7",
   "metadata": {},
   "outputs": [
    {
     "name": "stdout",
     "output_type": "stream",
     "text": [
      "A+\n"
     ]
    }
   ],
   "source": [
    "marks=int(input())\n",
    "if marks>=90:\n",
    "    print(\"A+\")\n",
    "elif marks>=80:\n",
    "    print(\"A\")\n",
    "elif marks>=70:\n",
    "    print(\"B\")\n",
    "elif marks>=60:\n",
    "    print(\"C\")\n",
    "else:\n",
    "    print(\"Fail\")\n",
    "\n"
   ]
  },
  {
   "cell_type": "code",
   "execution_count": 9,
   "id": "40e2cc7a",
   "metadata": {},
   "outputs": [
    {
     "name": "stdout",
     "output_type": "stream",
     "text": [
      "highest= 90\n",
      "lowest= 45\n",
      "Average= 71.4\n"
     ]
    }
   ],
   "source": [
    "marks=[45, 78, 88, 56, 90]\n",
    "print(\"highest=\",max(marks))\n",
    "print(\"lowest=\",min(marks))\n",
    "avg=sum(marks)/len(marks)\n",
    "print(\"Average=\",round(avg,1))"
   ]
  },
  {
   "cell_type": "code",
   "execution_count": 11,
   "id": "910405c1",
   "metadata": {},
   "outputs": [
    {
     "name": "stdout",
     "output_type": "stream",
     "text": [
      "Phone number of  Ravi : 9123456780\n"
     ]
    }
   ],
   "source": [
    "ph={\"Suhel\": 9876543210, \"Ravi\": 9123456780, \"Anita\": 9988776655}\n",
    "s=input(\"Enter a name to search\")\n",
    "if s in ph:\n",
    "    print(\"Phone number of \",s,\":\",ph[s])\n",
    "else:\n",
    "    print(\"name not Found\")"
   ]
  },
  {
   "cell_type": "code",
   "execution_count": 13,
   "id": "37771754",
   "metadata": {},
   "outputs": [
    {
     "name": "stdout",
     "output_type": "stream",
     "text": [
      "Total Words = 3\n",
      "Total Characters = 17\n",
      "Total Vowels = 6\n"
     ]
    }
   ],
   "source": [
    "sentence = input(\"Enter sentence: \")\n",
    "words = sentence.split()\n",
    "characters = len(sentence)\n",
    "vowels = sum(1 for ch in sentence.lower() if ch in \"aeiou\")\n",
    "print(\"Total Words =\", len(words))\n",
    "print(\"Total Characters =\", characters)\n",
    "print(\"Total Vowels =\", vowels)"
   ]
  },
  {
   "cell_type": "code",
   "execution_count": 19,
   "id": "8b8893d3",
   "metadata": {},
   "outputs": [
    {
     "name": "stdout",
     "output_type": "stream",
     "text": [
      "Interest = 512.5\n",
      "Total Amount = 5512.5\n"
     ]
    }
   ],
   "source": [
    "p = float(input(\"Principal: \"))\n",
    "r = float(input(\"Rate: \"))\n",
    "t = float(input(\"Time: \"))\n",
    "itype = input(\"Type (Simple/Compound): \").lower()\n",
    "\n",
    "if itype == \"simple\":\n",
    "    i = (p*r*t)/100\n",
    "elif itype == \"compound\":\n",
    "    i = p*((1+r/100)**t - 1)\n",
    "else:\n",
    "    print(\"Invalid Type\"); exit()\n",
    "\n",
    "print(\"Interest =\", round(i, 2))\n",
    "print(\"Total Amount =\", round(p+i, 2))\n"
   ]
  },
  {
   "cell_type": "code",
   "execution_count": 15,
   "id": "9bd6bed5",
   "metadata": {},
   "outputs": [
    {
     "name": "stdout",
     "output_type": "stream",
     "text": [
      "Encrypted Message: KHOOR\n"
     ]
    }
   ],
   "source": [
    "message = input(\"Enter Message: \").upper()\n",
    "shift = int(input(\"Enter Shift: \"))\n",
    "encrypted = \"\"\n",
    "for ch in message:\n",
    "    if ch.isalpha():\n",
    "        encrypted += chr((ord(ch) - 65 + shift) % 26 + 65)\n",
    "    else:\n",
    "        encrypted += ch\n",
    "print(\"Encrypted Message:\", encrypted)"
   ]
  },
  {
   "cell_type": "code",
   "execution_count": 4,
   "id": "6790faaa",
   "metadata": {},
   "outputs": [
    {
     "name": "stdout",
     "output_type": "stream",
     "text": [
      "Pin Successful\n",
      "Withdrawal Successful. Remaining Balance = 3000\n"
     ]
    }
   ],
   "source": [
    "pin, balance = 1234, 5000\n",
    "if int(input(\"Enter PIN: \")) == pin:\n",
    "    print(\"Pin Successful\")\n",
    "    w = int(input(\"Withdraw: \"))\n",
    "    print(\"Withdrawal Successful. Remaining Balance =\", balance-w) if w <= balance else print(\"Insufficient Balance\")\n",
    "else:\n",
    "    print(\"Invalid PIN\")"
   ]
  },
  {
   "cell_type": "code",
   "execution_count": 5,
   "id": "2cc48c7a",
   "metadata": {},
   "outputs": [
    {
     "name": "stdout",
     "output_type": "stream",
     "text": [
      "Current Books: ['Python Basics', 'Data Science', 'AI Fundamentals']\n",
      "Current Books: ['Python Basics', 'AI Fundamentals', 'Machine Learning']\n",
      "Total Books: 3\n"
     ]
    }
   ],
   "source": [
    "books = [\"Python Basics\", \"Data Science\", \"AI Fundamentals\"]\n",
    "print(\"Current Books:\", books)\n",
    "\n",
    "add_book = input(\"Enter book to add: \")\n",
    "books.append(add_book)\n",
    "\n",
    "remove_book = input(\"Enter book to remove: \")\n",
    "if remove_book in books:\n",
    "    books.remove(remove_book)\n",
    "\n",
    "print(\"Current Books:\", books)\n",
    "print(\"Total Books:\", len(books))"
   ]
  }
 ],
 "metadata": {
  "kernelspec": {
   "display_name": "base",
   "language": "python",
   "name": "python3"
  },
  "language_info": {
   "codemirror_mode": {
    "name": "ipython",
    "version": 3
   },
   "file_extension": ".py",
   "mimetype": "text/x-python",
   "name": "python",
   "nbconvert_exporter": "python",
   "pygments_lexer": "ipython3",
   "version": "3.13.5"
  }
 },
 "nbformat": 4,
 "nbformat_minor": 5
}
